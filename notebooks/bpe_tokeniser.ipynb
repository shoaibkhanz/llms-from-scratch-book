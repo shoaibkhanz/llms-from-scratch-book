{
 "cells": [
  {
   "cell_type": "code",
   "execution_count": 2,
   "id": "3e167954-f72c-4ec6-8e19-45d6cce4f40b",
   "metadata": {},
   "outputs": [],
   "source": [
    "import torch\n",
    "from torch.utils.data import Dataset, DataLoader\n",
    "import torch.nn as nn\n",
    "from pathlib import Path\n",
    "import re\n",
    "import tiktoken"
   ]
  },
  {
   "cell_type": "code",
   "execution_count": 3,
   "id": "2a65023f-db8d-472e-9777-dad2431ebdaf",
   "metadata": {},
   "outputs": [],
   "source": [
    "def read_data(filepath: Path):\n",
    "    with open(filepath, \"r\", encoding=\"utf-8\") as f:\n",
    "        raw_text = f.read()\n",
    "    return raw_text\n"
   ]
  },
  {
   "cell_type": "code",
   "execution_count": 4,
   "id": "6c92c5af-bec1-4e75-9ba7-4cb6fd49b215",
   "metadata": {},
   "outputs": [],
   "source": [
    "data = read_data(\"../resources/verdict.txt\")"
   ]
  },
  {
   "cell_type": "code",
   "execution_count": 5,
   "id": "93c03146-cab5-4c92-9f68-22ab4e33b001",
   "metadata": {},
   "outputs": [
    {
     "name": "stdout",
     "output_type": "stream",
     "text": [
      "0\n",
      "2\n",
      "4\n",
      "6\n",
      "8\n"
     ]
    }
   ],
   "source": [
    "for i in range(0,10,2):\n",
    "    print(i)"
   ]
  },
  {
   "cell_type": "code",
   "execution_count": 6,
   "id": "05f56f05-bdc5-4001-b42a-71e33fa6df03",
   "metadata": {},
   "outputs": [],
   "source": [
    "class GPTDatasetV1(Dataset):\n",
    "    def __init__(self, text, tokeniser, max_length, stride):\n",
    "        self.tokeniser = tokeniser\n",
    "        self.input_ids = []\n",
    "        self.target_ids=[]\n",
    "\n",
    "        token_ids = tokeniser.encode(text,allowed_special={\"<|endoftext|>\"})\n",
    "\n",
    "        for i in range(0,len(token_ids)-max_length, stride):\n",
    "            input_chunk= token_ids[i:i+max_length]\n",
    "            target_chunk= token_ids[i+1: i+max_length+1] \n",
    "            self.input_ids.append(torch.tensor(input_chunk))\n",
    "            self.target_ids.append(torch.tensor(target_chunk))\n",
    "\n",
    "    def __len__(self):\n",
    "        return len(self.input_ids)\n",
    "        \n",
    "\n",
    "    def __getitem__(self,idx):\n",
    "        return self.input_ids[idx], self.target_ids[idx]\n",
    "\n"
   ]
  },
  {
   "cell_type": "code",
   "execution_count": 7,
   "id": "9632f4c4-54d2-4578-9de8-c01568f40a73",
   "metadata": {},
   "outputs": [],
   "source": [
    "def create_dataloader_v1(text, batch_size=4,max_length=256, stride=128, shuffle=True,drop_last=True):\n",
    "    tokeniser = tiktoken.get_encoding(\"gpt2\")\n",
    "    dataset = GPTDatasetV1(text,tokeniser,max_length,stride)\n",
    "    dataloader = DataLoader(dataset, batch_size=batch_size,shuffle=shuffle, drop_last=drop_last)\n",
    "    return dataloader\n",
    "    "
   ]
  },
  {
   "cell_type": "code",
   "execution_count": 8,
   "id": "3a37b9f0-df52-4f95-8274-af63f19e0a2f",
   "metadata": {},
   "outputs": [],
   "source": [
    "dataloader = create_dataloader_v1(data, batch_size=2,max_length=4,stride=1, shuffle=False)"
   ]
  },
  {
   "cell_type": "code",
   "execution_count": 9,
   "id": "b327a5f5-f53f-4119-aa39-1bf899514ad8",
   "metadata": {},
   "outputs": [
    {
     "name": "stdout",
     "output_type": "stream",
     "text": [
      "[tensor([[  464,  4643, 11600,    25],\n",
      "        [ 4643, 11600,    25,  1717]]), tensor([[ 4643, 11600,    25,  1717],\n",
      "        [11600,    25,  1717,   342]])]\n"
     ]
    }
   ],
   "source": [
    "data_iter = iter(dataloader)\n",
    "batch1 = next(data_iter)\n",
    "print(batch1) #return input_token and target_token"
   ]
  },
  {
   "cell_type": "code",
   "execution_count": 10,
   "id": "3edb5e19-9723-47e5-8d16-728c87c044f3",
   "metadata": {},
   "outputs": [
    {
     "name": "stdout",
     "output_type": "stream",
     "text": [
      "[tensor([[11600,    25,  1717,   342],\n",
      "        [   25,  1717,   342,   854]]), tensor([[   25,  1717,   342,   854],\n",
      "        [ 1717,   342,   854, 41328]])]\n"
     ]
    }
   ],
   "source": [
    "batch2 = next(data_iter)\n",
    "print(batch2) #return input_token and target_token"
   ]
  },
  {
   "cell_type": "markdown",
   "id": "6b7a1d9c-be17-4b3b-9dc1-72f17a738091",
   "metadata": {},
   "source": [
    "Here, we will understand how the embedding layer is like a lookup."
   ]
  },
  {
   "cell_type": "code",
   "execution_count": 11,
   "id": "d07a4d65-7863-4571-a459-3683a444476d",
   "metadata": {},
   "outputs": [
    {
     "name": "stdout",
     "output_type": "stream",
     "text": [
      "torch.Size([5, 2])\n",
      "Parameter containing:\n",
      "tensor([[ 0.9577,  0.8142],\n",
      "        [-0.0816, -0.8564],\n",
      "        [ 0.1519,  0.7748],\n",
      "        [-0.8239, -0.7357],\n",
      "        [ 0.6571, -0.3910]], requires_grad=True)\n"
     ]
    }
   ],
   "source": [
    "vocab_size=5\n",
    "output_dim=2\n",
    "embedding_layer = nn.Embedding(vocab_size, output_dim)\n",
    "print(embedding_layer.weight.shape)\n",
    "print(embedding_layer.weight)"
   ]
  },
  {
   "cell_type": "code",
   "execution_count": 12,
   "id": "c0a177ad-f361-43e9-9ad8-0abfad2dbd67",
   "metadata": {},
   "outputs": [
    {
     "data": {
      "text/plain": [
       "tensor([-0.8239, -0.7357], grad_fn=<EmbeddingBackward0>)"
      ]
     },
     "execution_count": 12,
     "metadata": {},
     "output_type": "execute_result"
    }
   ],
   "source": [
    "embedding_layer(torch.tensor(3))"
   ]
  },
  {
   "cell_type": "code",
   "execution_count": 13,
   "id": "7b02c74e-7117-4b07-bf0c-4d420928cb4c",
   "metadata": {},
   "outputs": [
    {
     "data": {
      "text/plain": [
       "tensor(3)"
      ]
     },
     "execution_count": 13,
     "metadata": {},
     "output_type": "execute_result"
    }
   ],
   "source": [
    "torch.tensor(3)"
   ]
  },
  {
   "cell_type": "code",
   "execution_count": 14,
   "id": "5ca4b774-1fa4-4c24-a93d-197520680061",
   "metadata": {},
   "outputs": [
    {
     "data": {
      "text/plain": [
       "tensor([[-0.0816, -0.8564],\n",
       "        [ 0.1519,  0.7748],\n",
       "        [-0.8239, -0.7357]], grad_fn=<EmbeddingBackward0>)"
      ]
     },
     "execution_count": 14,
     "metadata": {},
     "output_type": "execute_result"
    }
   ],
   "source": [
    "embedding_layer(torch.tensor([1,2,3]))"
   ]
  },
  {
   "cell_type": "markdown",
   "id": "3f3e9174-64ca-4424-b837-7caa954ccbeb",
   "metadata": {},
   "source": [
    "### Creating Positional Encodings"
   ]
  },
  {
   "cell_type": "code",
   "execution_count": 15,
   "id": "ca231b84-0562-4303-b7a8-5e9e53e54564",
   "metadata": {},
   "outputs": [],
   "source": [
    "output_dim = 256\n",
    "vocab_size = 50257\n",
    "embedding_layer  = nn.Embedding(vocab_size, output_dim)"
   ]
  },
  {
   "cell_type": "code",
   "execution_count": 16,
   "id": "dfaee2bf-fdd7-4f1d-814b-2d1c70a160a0",
   "metadata": {},
   "outputs": [],
   "source": [
    "max_length = 4\n",
    "dataloader = create_dataloader_v1(data, batch_size=8,max_length=max_length,stride=max_length, shuffle=False)"
   ]
  },
  {
   "cell_type": "code",
   "execution_count": 17,
   "id": "a54e7014-608c-4890-92a4-ac83d631ea67",
   "metadata": {},
   "outputs": [],
   "source": [
    "data_iter = iter(dataloader)"
   ]
  },
  {
   "cell_type": "code",
   "execution_count": 18,
   "id": "9f9b0098-3c5d-4f9a-8301-3e97d8e31ea3",
   "metadata": {},
   "outputs": [],
   "source": [
    "inputs, targets = next(data_iter)"
   ]
  },
  {
   "cell_type": "code",
   "execution_count": 19,
   "id": "c3e65647-e337-4c92-90c4-ef59a772dffb",
   "metadata": {},
   "outputs": [
    {
     "name": "stdout",
     "output_type": "stream",
     "text": [
      "tensor([[  464,  4643, 11600,    25],\n",
      "        [ 1717,   342,   854, 41328],\n",
      "        [   25, 40417,   198,  3109],\n",
      "        [ 9213,   422, 11145,   271],\n",
      "        [ 1668,   319,  3267,  2310],\n",
      "        [   11, 48609,   198,   198],\n",
      "        [   40,   367,  2885,  1464],\n",
      "        [ 1807,  3619,   402,   271]])\n"
     ]
    }
   ],
   "source": [
    "print(inputs)"
   ]
  },
  {
   "cell_type": "code",
   "execution_count": 20,
   "id": "99e34b5e-2380-4659-9dc9-03e90e896ed5",
   "metadata": {},
   "outputs": [
    {
     "name": "stdout",
     "output_type": "stream",
     "text": [
      "tensor([[ 4643, 11600,    25,  1717],\n",
      "        [  342,   854, 41328,    25],\n",
      "        [40417,   198,  3109,  9213],\n",
      "        [  422, 11145,   271,  1668],\n",
      "        [  319,  3267,  2310,    11],\n",
      "        [48609,   198,   198,    40],\n",
      "        [  367,  2885,  1464,  1807],\n",
      "        [ 3619,   402,   271, 10899]])\n"
     ]
    }
   ],
   "source": [
    "print(targets)"
   ]
  },
  {
   "cell_type": "code",
   "execution_count": 21,
   "id": "fe9c7e91-34b3-4621-90c8-cbbd8ae5595f",
   "metadata": {},
   "outputs": [
    {
     "name": "stdout",
     "output_type": "stream",
     "text": [
      "torch.Size([8, 4, 256])\n"
     ]
    }
   ],
   "source": [
    "token_embeddings  = embedding_layer(inputs)\n",
    "print(token_embeddings.shape)"
   ]
  },
  {
   "cell_type": "code",
   "execution_count": 22,
   "id": "bf3f13f7-82cc-4ec6-ae78-43771c5027b3",
   "metadata": {},
   "outputs": [
    {
     "name": "stdout",
     "output_type": "stream",
     "text": [
      "torch.Size([4, 256])\n"
     ]
    }
   ],
   "source": [
    "# context length here is the maximum lenght of a given sentence.\n",
    "context_length = max_length\n",
    "pos_embedding_layer = nn.Embedding(context_length, output_dim)\n",
    "pos_embeddings = pos_embedding_layer(torch.arange(context_length))\n",
    "print(pos_embeddings.shape)"
   ]
  },
  {
   "cell_type": "code",
   "execution_count": 23,
   "id": "0ed831ed-539e-476e-a4bc-55faed99df6f",
   "metadata": {},
   "outputs": [
    {
     "name": "stdout",
     "output_type": "stream",
     "text": [
      "tensor([[[ 2.2313e+00,  9.5014e-01,  8.3350e-01,  ...,  4.3666e-01,\n",
      "           7.0738e-01, -2.8890e+00],\n",
      "         [ 4.3013e-01,  4.7948e-01,  7.0637e-01,  ..., -1.4691e+00,\n",
      "          -1.2311e+00,  5.4692e-01],\n",
      "         [ 2.9066e-01, -3.2754e-01, -4.7325e-03,  ...,  1.5367e-01,\n",
      "           9.1061e-01,  9.0097e-01],\n",
      "         [ 1.1351e+00, -1.1351e+00, -2.6348e+00,  ...,  4.2776e-01,\n",
      "           2.1555e+00, -9.9331e-01]],\n",
      "\n",
      "        [[ 1.6255e+00, -8.7252e-01,  1.3496e+00,  ..., -9.8355e-01,\n",
      "           1.3422e+00, -3.6554e-01],\n",
      "         [ 2.2749e+00, -2.0938e+00,  1.4435e-01,  ...,  2.9035e-01,\n",
      "           1.2776e+00, -2.9447e-01],\n",
      "         [ 1.0584e+00, -1.2154e+00, -4.2583e-01,  ...,  2.4404e-01,\n",
      "          -1.9316e+00,  1.1576e+00],\n",
      "         [-1.7942e-01, -1.1768e+00, -2.8520e-01,  ...,  9.6883e-01,\n",
      "           1.0250e+00, -1.7601e+00]],\n",
      "\n",
      "        [[ 2.4362e+00, -2.7157e-01, -1.4153e+00,  ..., -1.1771e+00,\n",
      "           2.3300e+00, -5.8323e-01],\n",
      "         [-1.8907e+00, -4.8473e-01,  2.8876e+00,  ...,  1.7872e+00,\n",
      "           6.8714e-01,  7.2047e-01],\n",
      "         [-6.2571e-01, -6.4843e-01,  9.2585e-01,  ...,  7.9921e-01,\n",
      "           3.9437e-01,  1.1721e+00],\n",
      "         [-1.1174e-01, -9.6134e-01, -1.1228e+00,  ...,  1.5676e+00,\n",
      "          -9.3345e-02, -2.1140e+00]],\n",
      "\n",
      "        ...,\n",
      "\n",
      "        [[ 1.5573e+00, -4.5693e-02, -6.9141e-01,  ..., -2.3809e-01,\n",
      "           4.9072e-01, -1.9614e+00],\n",
      "         [-6.1231e-01, -4.4157e-02,  1.5561e+00,  ..., -1.1444e+00,\n",
      "          -5.7585e-01,  1.9269e+00],\n",
      "         [-6.2571e-01, -6.4843e-01,  9.2585e-01,  ...,  7.9921e-01,\n",
      "           3.9437e-01,  1.1721e+00],\n",
      "         [-6.3092e-01, -2.4124e-01,  2.9878e-03,  ...,  1.2836e+00,\n",
      "           1.8147e+00, -1.8643e-01]],\n",
      "\n",
      "        [[ 1.9131e+00,  4.8167e-01,  5.6747e-01,  ...,  1.1530e-01,\n",
      "           1.9963e+00, -6.3347e-01],\n",
      "         [ 2.1001e-01,  8.6248e-01,  1.5706e+00,  ...,  2.1111e+00,\n",
      "           1.1739e+00,  1.9598e+00],\n",
      "         [ 7.4902e-01,  2.2639e-01,  4.9160e-01,  ...,  1.0610e+00,\n",
      "           5.8528e-01,  2.6245e-01],\n",
      "         [ 7.9984e-01, -2.4367e+00, -1.1585e+00,  ...,  2.1892e+00,\n",
      "           1.4511e-01, -9.7406e-01]],\n",
      "\n",
      "        [[ 4.0820e+00,  3.1699e-01,  1.1849e+00,  ...,  1.0683e-01,\n",
      "           1.6632e-01, -2.3957e+00],\n",
      "         [-5.9317e-01, -1.2363e+00,  8.6626e-01,  ...,  7.6438e-01,\n",
      "           1.3549e+00,  4.9695e-01],\n",
      "         [ 1.7881e+00, -1.0856e+00,  2.0332e+00,  ...,  1.8684e+00,\n",
      "          -9.0281e-01,  5.2771e-01],\n",
      "         [ 4.0014e-01, -2.6680e+00, -1.1395e-01,  ...,  1.1591e+00,\n",
      "           1.1957e+00, -2.7053e+00]]], grad_fn=<AddBackward0>)\n"
     ]
    }
   ],
   "source": [
    "input_embeddings = token_embeddings + pos_embeddings\n",
    "print(input_embeddings)"
   ]
  },
  {
   "cell_type": "code",
   "execution_count": 24,
   "id": "e2f57af3-d8f4-4b95-8823-0208017dd8ea",
   "metadata": {},
   "outputs": [],
   "source": [
    "inputs = torch.tensor( [[0.43, 0.15, 0.89], [0.55, 0.87, 0.66], \n",
    "                        [0.57, 0.85, 0.64], [0.22, 0.58, 0.33], \n",
    "                        [0.77, 0.25, 0.10], [0.05, 0.80, 0.55]])"
   ]
  },
  {
   "cell_type": "code",
   "execution_count": 25,
   "id": "615dee45-32ca-48d7-8ac3-7d98288194c3",
   "metadata": {},
   "outputs": [
    {
     "data": {
      "text/plain": [
       "tensor([[0.4300, 0.1500, 0.8900],\n",
       "        [0.5500, 0.8700, 0.6600],\n",
       "        [0.5700, 0.8500, 0.6400],\n",
       "        [0.2200, 0.5800, 0.3300],\n",
       "        [0.7700, 0.2500, 0.1000],\n",
       "        [0.0500, 0.8000, 0.5500]])"
      ]
     },
     "execution_count": 25,
     "metadata": {},
     "output_type": "execute_result"
    }
   ],
   "source": [
    "inputs"
   ]
  },
  {
   "cell_type": "code",
   "execution_count": 26,
   "id": "90877062-728f-449c-96b7-d8dfaa7fa2a0",
   "metadata": {},
   "outputs": [
    {
     "name": "stdout",
     "output_type": "stream",
     "text": [
      "tensor([0.5500, 0.8700, 0.6600])\n"
     ]
    }
   ],
   "source": [
    "query = inputs[1]\n",
    "print(query)"
   ]
  },
  {
   "cell_type": "code",
   "execution_count": 27,
   "id": "1c2bfae2-de4b-46af-b596-1e35549ad00b",
   "metadata": {},
   "outputs": [
    {
     "name": "stdout",
     "output_type": "stream",
     "text": [
      "tensor([0., 0., 0., 0., 0., 0.])\n"
     ]
    }
   ],
   "source": [
    "attention_scores_2 = torch.empty(inputs.shape[0])\n",
    "print(attention_scores_2)"
   ]
  },
  {
   "cell_type": "code",
   "execution_count": 28,
   "id": "ab0d027c-914a-4619-9be0-0aee775a3c99",
   "metadata": {},
   "outputs": [
    {
     "name": "stdout",
     "output_type": "stream",
     "text": [
      "tensor([0.9544, 1.4950, 1.4754, 0.8434, 0.7070, 1.0865])\n"
     ]
    }
   ],
   "source": [
    "for i, x_i in enumerate(inputs):\n",
    "    attention_scores_2[i] = query @ x_i\n",
    "\n",
    "print(attention_scores_2)"
   ]
  },
  {
   "cell_type": "code",
   "execution_count": 29,
   "id": "8446fe2e-4867-4832-9678-34963ac1f382",
   "metadata": {},
   "outputs": [
    {
     "name": "stdout",
     "output_type": "stream",
     "text": [
      "tensor([0.1455, 0.2278, 0.2249, 0.1285, 0.1077, 0.1656])\n"
     ]
    }
   ],
   "source": [
    "normalised_attention_scores = attention_scores_2/attention_scores_2.sum()\n",
    "print(normalised_attention_scores)"
   ]
  },
  {
   "cell_type": "code",
   "execution_count": 30,
   "id": "ba70ecf6-8463-48f4-8130-6686ae226a36",
   "metadata": {},
   "outputs": [
    {
     "name": "stdout",
     "output_type": "stream",
     "text": [
      "tensor([0.1385, 0.2379, 0.2333, 0.1240, 0.1082, 0.1581])\n"
     ]
    }
   ],
   "source": [
    "naive_softmax = lambda x: torch.exp(x)/torch.exp(x).sum()\n",
    "normalised_attention_scores  = naive_softmax(attention_scores_2)\n",
    "print(normalised_attention_scores)"
   ]
  },
  {
   "cell_type": "code",
   "execution_count": 31,
   "id": "8ec4773c-2041-410c-a971-bad0a8f7b4ce",
   "metadata": {},
   "outputs": [
    {
     "name": "stdout",
     "output_type": "stream",
     "text": [
      "tensor([0.1385, 0.2379, 0.2333, 0.1240, 0.1082, 0.1581])\n"
     ]
    }
   ],
   "source": [
    "normalised_attention_scores  = torch.softmax(attention_scores_2,dim=0)\n",
    "print(normalised_attention_scores)"
   ]
  },
  {
   "cell_type": "code",
   "execution_count": 32,
   "id": "111b9ff9-ceb4-4564-965c-8393bf7ec703",
   "metadata": {},
   "outputs": [
    {
     "name": "stdout",
     "output_type": "stream",
     "text": [
      "tensor([0.4419, 0.6515, 0.5683])\n"
     ]
    }
   ],
   "source": [
    "query = inputs[1]\n",
    "context_vec_2 = torch.zeros(query.shape)\n",
    "for i, x_i in enumerate(inputs):\n",
    "    context_vec_2 += normalised_attention_scores[i] * x_i\n",
    "\n",
    "print(context_vec_2)\n"
   ]
  },
  {
   "cell_type": "code",
   "execution_count": 33,
   "id": "bcc55b20-21b3-4c7f-b407-52e8591baee1",
   "metadata": {},
   "outputs": [
    {
     "name": "stdout",
     "output_type": "stream",
     "text": [
      "tensor([[0.9995, 0.9544, 0.9422, 0.4753, 0.4576, 0.6310],\n",
      "        [0.9544, 1.4950, 1.4754, 0.8434, 0.7070, 1.0865],\n",
      "        [0.9422, 1.4754, 1.4570, 0.8296, 0.7154, 1.0605],\n",
      "        [0.4753, 0.8434, 0.8296, 0.4937, 0.3474, 0.6565],\n",
      "        [0.4576, 0.7070, 0.7154, 0.3474, 0.6654, 0.2935],\n",
      "        [0.6310, 1.0865, 1.0605, 0.6565, 0.2935, 0.9450]])\n"
     ]
    }
   ],
   "source": [
    "unormalised_attention_score = inputs @ inputs.T\n",
    "print(unormalised_attention_score)"
   ]
  },
  {
   "cell_type": "code",
   "execution_count": 34,
   "id": "51574dc9-f480-46e1-b214-381ffa4fcb63",
   "metadata": {},
   "outputs": [
    {
     "name": "stdout",
     "output_type": "stream",
     "text": [
      "tensor([[0.2098, 0.1385, 0.1390, 0.1435, 0.1526, 0.1385],\n",
      "        [0.2006, 0.2379, 0.2369, 0.2074, 0.1958, 0.2184],\n",
      "        [0.1981, 0.2333, 0.2326, 0.2046, 0.1975, 0.2128],\n",
      "        [0.1242, 0.1240, 0.1242, 0.1462, 0.1367, 0.1420],\n",
      "        [0.1220, 0.1082, 0.1108, 0.1263, 0.1879, 0.0988],\n",
      "        [0.1452, 0.1581, 0.1565, 0.1720, 0.1295, 0.1896]])\n"
     ]
    }
   ],
   "source": [
    "attention_weights = torch.softmax(unormalised_attention_score,dim=0)\n",
    "print(attention_weights)"
   ]
  },
  {
   "cell_type": "code",
   "execution_count": 35,
   "id": "76cfda77-c78e-4f29-a1d0-0bd67934f2c3",
   "metadata": {},
   "outputs": [
    {
     "data": {
      "text/plain": [
       "tensor(1.0000)"
      ]
     },
     "execution_count": 35,
     "metadata": {},
     "output_type": "execute_result"
    }
   ],
   "source": [
    "attention_weights[:,0].sum()"
   ]
  },
  {
   "cell_type": "code",
   "execution_count": 36,
   "id": "2a570c97-5fb4-4132-a6d2-52018a5ac665",
   "metadata": {},
   "outputs": [
    {
     "name": "stdout",
     "output_type": "stream",
     "text": [
      "tensor([[0.4017, 0.5023, 0.5059],\n",
      "        [0.5595, 0.7824, 0.6953],\n",
      "        [0.5538, 0.7686, 0.6834],\n",
      "        [0.3369, 0.4647, 0.4119],\n",
      "        [0.3525, 0.4059, 0.3657],\n",
      "        [0.3856, 0.5761, 0.5077]])\n"
     ]
    }
   ],
   "source": [
    "context_vector = attention_weights @ inputs\n",
    "print(context_vector)"
   ]
  },
  {
   "cell_type": "markdown",
   "id": "0197f109-8a98-4bcd-ac08-8235fe9d9602",
   "metadata": {},
   "source": [
    "Self attention with trainable weights"
   ]
  },
  {
   "cell_type": "code",
   "execution_count": 40,
   "id": "989a18d2-48e8-4442-a8a4-cca1f450b101",
   "metadata": {},
   "outputs": [],
   "source": [
    "x_2 = inputs[1]\n",
    "d_in = inputs.shape[1]\n",
    "d_out = 2 # generally the sizes for input and output are the same but the author suggests different for better understanding."
   ]
  },
  {
   "cell_type": "code",
   "execution_count": 42,
   "id": "dd6dff58-b9be-457b-9ab9-871731228dba",
   "metadata": {},
   "outputs": [],
   "source": [
    "w_q  =nn.Parameter(torch.rand(d_in,d_out), requires_grad=False)\n",
    "w_k  =nn.Parameter(torch.rand(d_in,d_out), requires_grad=False)\n",
    "w_v  =nn.Parameter(torch.rand(d_in,d_out), requires_grad=False)\n"
   ]
  },
  {
   "cell_type": "code",
   "execution_count": 43,
   "id": "bca8db43-e696-412c-81dc-4824899a2a57",
   "metadata": {},
   "outputs": [],
   "source": [
    "q_2 = x_2 @ w_q\n",
    "k_2 = x_2 @ w_k\n",
    "v_2 = x_2 @ w_v"
   ]
  },
  {
   "cell_type": "code",
   "execution_count": 46,
   "id": "d029e544-48cd-4335-bc12-b7c381c49d3b",
   "metadata": {},
   "outputs": [
    {
     "name": "stdout",
     "output_type": "stream",
     "text": [
      "tensor([1.3436, 1.0967])\n"
     ]
    }
   ],
   "source": [
    "print(q_2)"
   ]
  },
  {
   "cell_type": "code",
   "execution_count": 47,
   "id": "e7f8221e-a4ef-4455-8d95-530c19b48636",
   "metadata": {},
   "outputs": [],
   "source": [
    "key = inputs @ w_k \n",
    "values  = inputs @ w_v"
   ]
  },
  {
   "cell_type": "code",
   "execution_count": 54,
   "id": "5ee58206-3ba8-4f53-a75c-79221f0f881b",
   "metadata": {},
   "outputs": [
    {
     "name": "stdout",
     "output_type": "stream",
     "text": [
      "keys:  tensor([[0.4639, 0.4834],\n",
      "        [0.6597, 0.7193],\n",
      "        [0.6759, 0.7253],\n",
      "        [0.2944, 0.3578],\n",
      "        [0.7777, 0.6296],\n",
      "        [0.1645, 0.3273]])\n",
      "##################################################\n",
      "values:  tensor([[0.6139, 1.0462],\n",
      "        [0.8336, 0.9588],\n",
      "        [0.8270, 0.9441],\n",
      "        [0.4448, 0.4776],\n",
      "        [0.4759, 0.4149],\n",
      "        [0.5395, 0.6572]])\n"
     ]
    }
   ],
   "source": [
    "print(\"keys: \", key)\n",
    "print(\"#\"*50)\n",
    "print(\"values: \", values)"
   ]
  },
  {
   "cell_type": "code",
   "execution_count": 59,
   "id": "26799b0d-76d5-4a90-b75c-bee2d0157d98",
   "metadata": {},
   "outputs": [],
   "source": [
    "key_2 = key[1]\n",
    "attention_score_22 = q_2.dot(key_2)# key_2.dot(q_2)"
   ]
  },
  {
   "cell_type": "code",
   "execution_count": 60,
   "id": "e600fd0b-a8f5-4593-9de6-495b0e1300a4",
   "metadata": {},
   "outputs": [
    {
     "name": "stdout",
     "output_type": "stream",
     "text": [
      "torch.Size([2])\n",
      "torch.Size([2])\n",
      "torch.Size([])\n"
     ]
    }
   ],
   "source": [
    "print(key_2.shape)\n",
    "print(q_2.shape)\n",
    "print(attention_score_22.shape)"
   ]
  },
  {
   "cell_type": "code",
   "execution_count": 61,
   "id": "bf51a394-1b42-4f07-84d5-bb6860cb210f",
   "metadata": {},
   "outputs": [
    {
     "data": {
      "text/plain": [
       "tensor(1.6753)"
      ]
     },
     "execution_count": 61,
     "metadata": {},
     "output_type": "execute_result"
    }
   ],
   "source": [
    "attention_score_22"
   ]
  },
  {
   "cell_type": "code",
   "execution_count": 81,
   "id": "1c628c1d-7ba7-43a7-bc23-a19cef375984",
   "metadata": {},
   "outputs": [],
   "source": [
    "attention_score_2 = q_2 @ key.T # the second element here matches the attention_score_22"
   ]
  },
  {
   "cell_type": "markdown",
   "id": "3298c80a-b55f-4447-95e3-e877def8baba",
   "metadata": {},
   "source": [
    "Calculating attention scores for all , but I have hurried to do this, the book first suggests we stick with q_2 and first scale and then will come back to the doing all at once."
   ]
  },
  {
   "cell_type": "code",
   "execution_count": 82,
   "id": "ec2e771c-f19e-4fc6-b2ae-e6d36d82ff83",
   "metadata": {},
   "outputs": [],
   "source": [
    "#query = inputs @ w_q\n",
    "#print(query.shape)\n",
    "#print(key.shape)\n",
    "\n",
    "#attention_scores = query @ key.T\n",
    "#print(attention_scores.shape)"
   ]
  },
  {
   "cell_type": "markdown",
   "id": "bd4444e0-c059-474d-8ec8-f8da75c1e35f",
   "metadata": {},
   "source": [
    "Lets calculate normalise to get from attention_scores to attention_weights for q_2 first."
   ]
  },
  {
   "cell_type": "code",
   "execution_count": 83,
   "id": "caab4677-27eb-4e2e-a5a3-6740c665e0e0",
   "metadata": {},
   "outputs": [
    {
     "name": "stdout",
     "output_type": "stream",
     "text": [
      "2\n"
     ]
    }
   ],
   "source": [
    "d_k = key.shape[-1]\n",
    "print(d_k)"
   ]
  },
  {
   "cell_type": "code",
   "execution_count": 84,
   "id": "f0284388-6349-40f7-9074-51c22e3998ce",
   "metadata": {},
   "outputs": [],
   "source": [
    "attention_weights_2 = torch.softmax(attention_score_2/d_k**0.5, dim = -1)"
   ]
  },
  {
   "cell_type": "code",
   "execution_count": 85,
   "id": "8ef8fb56-8748-4be2-9187-232397291d9b",
   "metadata": {},
   "outputs": [
    {
     "data": {
      "text/plain": [
       "tensor([0.1456, 0.2105, 0.2148, 0.1124, 0.2197, 0.0970])"
      ]
     },
     "execution_count": 85,
     "metadata": {},
     "output_type": "execute_result"
    }
   ],
   "source": [
    "attention_weights_2"
   ]
  },
  {
   "cell_type": "code",
   "execution_count": 86,
   "id": "f13a91c5-8f32-4880-a33e-b23d9925b294",
   "metadata": {},
   "outputs": [
    {
     "data": {
      "text/plain": [
       "tensor([4.3500, 5.2349])"
      ]
     },
     "execution_count": 86,
     "metadata": {},
     "output_type": "execute_result"
    }
   ],
   "source": [
    "attention_scores_2 @ values"
   ]
  },
  {
   "cell_type": "markdown",
   "id": "9eee2407-3dd0-4cfc-b60d-a2255eaf3008",
   "metadata": {},
   "source": [
    "Create a class for extracting the context vector"
   ]
  },
  {
   "cell_type": "code",
   "execution_count": null,
   "id": "205d9b28-8a1a-425d-9466-0893306f8122",
   "metadata": {},
   "outputs": [],
   "source": [
    "class SelfAttentionV1(nn.Module):\n",
    "    "
   ]
  }
 ],
 "metadata": {
  "kernelspec": {
   "display_name": "Python 3 (ipykernel)",
   "language": "python",
   "name": "python3"
  },
  "language_info": {
   "codemirror_mode": {
    "name": "ipython",
    "version": 3
   },
   "file_extension": ".py",
   "mimetype": "text/x-python",
   "name": "python",
   "nbconvert_exporter": "python",
   "pygments_lexer": "ipython3",
   "version": "3.11.10"
  }
 },
 "nbformat": 4,
 "nbformat_minor": 5
}
