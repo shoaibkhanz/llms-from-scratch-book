{
 "cells": [
  {
   "cell_type": "code",
   "execution_count": 1,
   "id": "3e167954-f72c-4ec6-8e19-45d6cce4f40b",
   "metadata": {},
   "outputs": [],
   "source": [
    "import torch\n",
    "from torch.utils.data import Dataset, DataLoader\n",
    "import torch.nn as nn\n",
    "from pathlib import Path\n",
    "import re\n",
    "import tiktoken"
   ]
  },
  {
   "cell_type": "code",
   "execution_count": 2,
   "id": "2a65023f-db8d-472e-9777-dad2431ebdaf",
   "metadata": {},
   "outputs": [],
   "source": [
    "def read_data(filepath: Path):\n",
    "    with open(filepath, \"r\", encoding=\"utf-8\") as f:\n",
    "        raw_text = f.read()\n",
    "    return raw_text\n"
   ]
  },
  {
   "cell_type": "code",
   "execution_count": 3,
   "id": "6c92c5af-bec1-4e75-9ba7-4cb6fd49b215",
   "metadata": {},
   "outputs": [],
   "source": [
    "data = read_data(\"../resources/verdict.txt\")"
   ]
  },
  {
   "cell_type": "code",
   "execution_count": 4,
   "id": "93c03146-cab5-4c92-9f68-22ab4e33b001",
   "metadata": {},
   "outputs": [
    {
     "name": "stdout",
     "output_type": "stream",
     "text": [
      "0\n",
      "2\n",
      "4\n",
      "6\n",
      "8\n"
     ]
    }
   ],
   "source": [
    "for i in range(0,10,2):\n",
    "    print(i)"
   ]
  },
  {
   "cell_type": "code",
   "execution_count": 5,
   "id": "05f56f05-bdc5-4001-b42a-71e33fa6df03",
   "metadata": {},
   "outputs": [],
   "source": [
    "class GPTDatasetV1(Dataset):\n",
    "    def __init__(self, text, tokeniser, max_length, stride):\n",
    "        self.tokeniser = tokeniser\n",
    "        self.input_ids = []\n",
    "        self.target_ids=[]\n",
    "\n",
    "        token_ids = tokeniser.encode(text,allowed_special={\"<|endoftext|>\"})\n",
    "\n",
    "        for i in range(0,len(token_ids)-max_length, stride):\n",
    "            input_chunk= token_ids[i:i+max_length]\n",
    "            target_chunk= token_ids[i+1: i+max_length+1] \n",
    "            self.input_ids.append(torch.tensor(input_chunk))\n",
    "            self.target_ids.append(torch.tensor(target_chunk))\n",
    "\n",
    "    def __len__(self):\n",
    "        return len(self.input_ids)\n",
    "        \n",
    "\n",
    "    def __getitem__(self,idx):\n",
    "        return self.input_ids[idx], self.target_ids[idx]\n",
    "\n"
   ]
  },
  {
   "cell_type": "code",
   "execution_count": 6,
   "id": "9632f4c4-54d2-4578-9de8-c01568f40a73",
   "metadata": {},
   "outputs": [],
   "source": [
    "def create_dataloader_v1(text, batch_size=4,max_length=256, stride=128, shuffle=True,drop_last=True):\n",
    "    tokeniser = tiktoken.get_encoding(\"gpt2\")\n",
    "    dataset = GPTDatasetV1(text,tokeniser,max_length,stride)\n",
    "    dataloader = DataLoader(dataset, batch_size=batch_size,shuffle=shuffle, drop_last=drop_last)\n",
    "    return dataloader\n",
    "    "
   ]
  },
  {
   "cell_type": "code",
   "execution_count": 7,
   "id": "3a37b9f0-df52-4f95-8274-af63f19e0a2f",
   "metadata": {},
   "outputs": [],
   "source": [
    "dataloader = create_dataloader_v1(data, batch_size=2,max_length=4,stride=1, shuffle=False)"
   ]
  },
  {
   "cell_type": "code",
   "execution_count": 8,
   "id": "b327a5f5-f53f-4119-aa39-1bf899514ad8",
   "metadata": {},
   "outputs": [
    {
     "name": "stdout",
     "output_type": "stream",
     "text": [
      "[tensor([[  464,  4643, 11600,    25],\n",
      "        [ 4643, 11600,    25,  1717]]), tensor([[ 4643, 11600,    25,  1717],\n",
      "        [11600,    25,  1717,   342]])]\n"
     ]
    }
   ],
   "source": [
    "data_iter = iter(dataloader)\n",
    "batch1 = next(data_iter)\n",
    "print(batch1) #return input_token and target_token"
   ]
  },
  {
   "cell_type": "code",
   "execution_count": 9,
   "id": "3edb5e19-9723-47e5-8d16-728c87c044f3",
   "metadata": {},
   "outputs": [
    {
     "name": "stdout",
     "output_type": "stream",
     "text": [
      "[tensor([[11600,    25,  1717,   342],\n",
      "        [   25,  1717,   342,   854]]), tensor([[   25,  1717,   342,   854],\n",
      "        [ 1717,   342,   854, 41328]])]\n"
     ]
    }
   ],
   "source": [
    "batch2 = next(data_iter)\n",
    "print(batch2) #return input_token and target_token"
   ]
  },
  {
   "cell_type": "markdown",
   "id": "6b7a1d9c-be17-4b3b-9dc1-72f17a738091",
   "metadata": {},
   "source": [
    "Here, we will understand how the embedding layer is like a lookup."
   ]
  },
  {
   "cell_type": "code",
   "execution_count": 10,
   "id": "d07a4d65-7863-4571-a459-3683a444476d",
   "metadata": {},
   "outputs": [
    {
     "name": "stdout",
     "output_type": "stream",
     "text": [
      "torch.Size([5, 2])\n",
      "Parameter containing:\n",
      "tensor([[-0.4291, -2.2476],\n",
      "        [-1.1059,  0.3573],\n",
      "        [ 0.2605, -0.1207],\n",
      "        [-0.5372,  1.9485],\n",
      "        [ 0.5412, -0.4585]], requires_grad=True)\n"
     ]
    }
   ],
   "source": [
    "vocab_size=5\n",
    "output_dim=2\n",
    "embedding_layer = nn.Embedding(vocab_size, output_dim)\n",
    "print(embedding_layer.weight.shape)\n",
    "print(embedding_layer.weight)"
   ]
  },
  {
   "cell_type": "code",
   "execution_count": 11,
   "id": "c0a177ad-f361-43e9-9ad8-0abfad2dbd67",
   "metadata": {},
   "outputs": [
    {
     "data": {
      "text/plain": [
       "tensor([-0.5372,  1.9485], grad_fn=<EmbeddingBackward0>)"
      ]
     },
     "execution_count": 11,
     "metadata": {},
     "output_type": "execute_result"
    }
   ],
   "source": [
    "embedding_layer(torch.tensor(3))"
   ]
  },
  {
   "cell_type": "code",
   "execution_count": 12,
   "id": "7b02c74e-7117-4b07-bf0c-4d420928cb4c",
   "metadata": {},
   "outputs": [
    {
     "data": {
      "text/plain": [
       "tensor(3)"
      ]
     },
     "execution_count": 12,
     "metadata": {},
     "output_type": "execute_result"
    }
   ],
   "source": [
    "torch.tensor(3)"
   ]
  },
  {
   "cell_type": "code",
   "execution_count": 13,
   "id": "5ca4b774-1fa4-4c24-a93d-197520680061",
   "metadata": {},
   "outputs": [
    {
     "data": {
      "text/plain": [
       "tensor([[-1.1059,  0.3573],\n",
       "        [ 0.2605, -0.1207],\n",
       "        [-0.5372,  1.9485]], grad_fn=<EmbeddingBackward0>)"
      ]
     },
     "execution_count": 13,
     "metadata": {},
     "output_type": "execute_result"
    }
   ],
   "source": [
    "embedding_layer(torch.tensor([1,2,3]))"
   ]
  },
  {
   "cell_type": "markdown",
   "id": "3f3e9174-64ca-4424-b837-7caa954ccbeb",
   "metadata": {},
   "source": [
    "### Creating Positional Encodings"
   ]
  },
  {
   "cell_type": "code",
   "execution_count": 14,
   "id": "ca231b84-0562-4303-b7a8-5e9e53e54564",
   "metadata": {},
   "outputs": [],
   "source": [
    "output_dim = 256\n",
    "vocab_size = 50257\n",
    "embedding_layer  = nn.Embedding(vocab_size, output_dim)"
   ]
  },
  {
   "cell_type": "code",
   "execution_count": 15,
   "id": "dfaee2bf-fdd7-4f1d-814b-2d1c70a160a0",
   "metadata": {},
   "outputs": [],
   "source": [
    "max_length = 4\n",
    "dataloader = create_dataloader_v1(data, batch_size=8,max_length=max_length,stride=max_length, shuffle=False)"
   ]
  },
  {
   "cell_type": "code",
   "execution_count": 16,
   "id": "a54e7014-608c-4890-92a4-ac83d631ea67",
   "metadata": {},
   "outputs": [],
   "source": [
    "data_iter = iter(dataloader)"
   ]
  },
  {
   "cell_type": "code",
   "execution_count": 17,
   "id": "9f9b0098-3c5d-4f9a-8301-3e97d8e31ea3",
   "metadata": {},
   "outputs": [],
   "source": [
    "inputs, targets = next(data_iter)"
   ]
  },
  {
   "cell_type": "code",
   "execution_count": 18,
   "id": "c3e65647-e337-4c92-90c4-ef59a772dffb",
   "metadata": {},
   "outputs": [
    {
     "name": "stdout",
     "output_type": "stream",
     "text": [
      "tensor([[  464,  4643, 11600,    25],\n",
      "        [ 1717,   342,   854, 41328],\n",
      "        [   25, 40417,   198,  3109],\n",
      "        [ 9213,   422, 11145,   271],\n",
      "        [ 1668,   319,  3267,  2310],\n",
      "        [   11, 48609,   198,   198],\n",
      "        [   40,   367,  2885,  1464],\n",
      "        [ 1807,  3619,   402,   271]])\n"
     ]
    }
   ],
   "source": [
    "print(inputs)"
   ]
  },
  {
   "cell_type": "code",
   "execution_count": 19,
   "id": "99e34b5e-2380-4659-9dc9-03e90e896ed5",
   "metadata": {},
   "outputs": [
    {
     "name": "stdout",
     "output_type": "stream",
     "text": [
      "tensor([[ 4643, 11600,    25,  1717],\n",
      "        [  342,   854, 41328,    25],\n",
      "        [40417,   198,  3109,  9213],\n",
      "        [  422, 11145,   271,  1668],\n",
      "        [  319,  3267,  2310,    11],\n",
      "        [48609,   198,   198,    40],\n",
      "        [  367,  2885,  1464,  1807],\n",
      "        [ 3619,   402,   271, 10899]])\n"
     ]
    }
   ],
   "source": [
    "print(targets)"
   ]
  },
  {
   "cell_type": "code",
   "execution_count": 20,
   "id": "fe9c7e91-34b3-4621-90c8-cbbd8ae5595f",
   "metadata": {},
   "outputs": [
    {
     "name": "stdout",
     "output_type": "stream",
     "text": [
      "torch.Size([8, 4, 256])\n"
     ]
    }
   ],
   "source": [
    "token_embeddings  = embedding_layer(inputs)\n",
    "print(token_embeddings.shape)"
   ]
  },
  {
   "cell_type": "code",
   "execution_count": 21,
   "id": "bf3f13f7-82cc-4ec6-ae78-43771c5027b3",
   "metadata": {},
   "outputs": [
    {
     "name": "stdout",
     "output_type": "stream",
     "text": [
      "torch.Size([4, 256])\n"
     ]
    }
   ],
   "source": [
    "# context length here is the maximum lenght of a given sentence.\n",
    "context_length = max_length\n",
    "pos_embedding_layer = nn.Embedding(context_length, output_dim)\n",
    "pos_embeddings = pos_embedding_layer(torch.arange(context_length))\n",
    "print(pos_embeddings.shape)"
   ]
  },
  {
   "cell_type": "code",
   "execution_count": 22,
   "id": "0ed831ed-539e-476e-a4bc-55faed99df6f",
   "metadata": {},
   "outputs": [
    {
     "name": "stdout",
     "output_type": "stream",
     "text": [
      "tensor([[[-1.8986, -2.1099,  2.3424,  ..., -1.2420,  0.9648, -0.9894],\n",
      "         [-0.6543,  0.0421, -0.3086,  ...,  1.6095,  0.7694,  0.3336],\n",
      "         [ 0.8008, -0.1051,  0.6068,  ...,  2.4534,  0.4855, -1.1804],\n",
      "         [-0.3418, -1.5308, -1.4341,  ..., -1.2648,  0.1561,  0.2622]],\n",
      "\n",
      "        [[ 0.4555, -2.7119,  2.6021,  ..., -1.2263,  0.1512, -0.6984],\n",
      "         [-1.8337, -1.2027,  1.2223,  ...,  1.2439, -0.1694, -0.7687],\n",
      "         [ 1.8680,  1.1382, -0.9113,  ...,  1.8025,  0.9990, -1.7271],\n",
      "         [ 0.8220, -0.7029,  0.8511,  ..., -0.8136,  1.0490, -0.9767]],\n",
      "\n",
      "        [[ 0.0836, -2.7003, -0.1940,  ..., -1.5268,  0.1354, -1.3546],\n",
      "         [-1.1759, -0.3684, -1.5890,  ...,  0.9603,  1.1061, -1.8884],\n",
      "         [ 1.3125,  1.2845,  0.0115,  ...,  0.9693,  0.9124, -0.8834],\n",
      "         [-1.1735, -0.8407, -1.4049,  ..., -1.2902,  1.1115,  0.4502]],\n",
      "\n",
      "        ...,\n",
      "\n",
      "        [[-0.9114, -1.1214,  0.1217,  ..., -2.8647, -0.7402, -0.2048],\n",
      "         [-1.7838, -2.2258,  1.3884,  ...,  0.2678,  0.6501, -2.0736],\n",
      "         [ 1.3125,  1.2845,  0.0115,  ...,  0.9693,  0.9124, -0.8834],\n",
      "         [-0.6804, -0.3439, -0.7925,  ..., -0.1311, -0.0781,  0.9600]],\n",
      "\n",
      "        [[-1.2020, -1.0292,  0.9906,  ..., -0.5739,  0.3258, -2.0453],\n",
      "         [-1.4423,  0.7556,  1.3771,  ...,  0.8913,  0.6513, -0.3528],\n",
      "         [ 0.4768,  0.8745, -0.7956,  ...,  1.0880,  1.0259, -2.2942],\n",
      "         [-1.1710,  0.1665, -0.4116,  ..., -0.2890,  0.3815,  1.0993]],\n",
      "\n",
      "        [[ 0.1507, -1.1407, -0.5931,  ...,  0.7064,  0.7009, -1.0340],\n",
      "         [ 0.4217,  0.7467,  1.1101,  ...,  0.0262,  0.0595, -1.9684],\n",
      "         [ 0.4650,  1.4070,  1.7667,  ...,  1.6162,  1.7278, -0.8161],\n",
      "         [-1.4896,  0.0665, -1.5969,  ..., -0.1415,  0.8381,  1.7946]]],\n",
      "       grad_fn=<AddBackward0>)\n"
     ]
    }
   ],
   "source": [
    "input_embeddings = token_embeddings + pos_embeddings\n",
    "print(input_embeddings)"
   ]
  },
  {
   "cell_type": "code",
   "execution_count": 23,
   "id": "e2f57af3-d8f4-4b95-8823-0208017dd8ea",
   "metadata": {},
   "outputs": [],
   "source": [
    "inputs = torch.tensor( [[0.43, 0.15, 0.89], [0.55, 0.87, 0.66], \n",
    "                        [0.57, 0.85, 0.64], [0.22, 0.58, 0.33], \n",
    "                        [0.77, 0.25, 0.10], [0.05, 0.80, 0.55]])"
   ]
  },
  {
   "cell_type": "code",
   "execution_count": 24,
   "id": "615dee45-32ca-48d7-8ac3-7d98288194c3",
   "metadata": {},
   "outputs": [
    {
     "data": {
      "text/plain": [
       "tensor([[0.4300, 0.1500, 0.8900],\n",
       "        [0.5500, 0.8700, 0.6600],\n",
       "        [0.5700, 0.8500, 0.6400],\n",
       "        [0.2200, 0.5800, 0.3300],\n",
       "        [0.7700, 0.2500, 0.1000],\n",
       "        [0.0500, 0.8000, 0.5500]])"
      ]
     },
     "execution_count": 24,
     "metadata": {},
     "output_type": "execute_result"
    }
   ],
   "source": [
    "inputs"
   ]
  },
  {
   "cell_type": "code",
   "execution_count": 25,
   "id": "90877062-728f-449c-96b7-d8dfaa7fa2a0",
   "metadata": {},
   "outputs": [
    {
     "name": "stdout",
     "output_type": "stream",
     "text": [
      "tensor([0.5500, 0.8700, 0.6600])\n"
     ]
    }
   ],
   "source": [
    "query = inputs[1]\n",
    "print(query)"
   ]
  },
  {
   "cell_type": "code",
   "execution_count": 26,
   "id": "1c2bfae2-de4b-46af-b596-1e35549ad00b",
   "metadata": {},
   "outputs": [
    {
     "name": "stdout",
     "output_type": "stream",
     "text": [
      "tensor([0., 0., 0., 0., 0., 0.])\n"
     ]
    }
   ],
   "source": [
    "attention_scores_2 = torch.empty(inputs.shape[0])\n",
    "print(attention_scores_2)"
   ]
  },
  {
   "cell_type": "code",
   "execution_count": 27,
   "id": "ab0d027c-914a-4619-9be0-0aee775a3c99",
   "metadata": {},
   "outputs": [
    {
     "name": "stdout",
     "output_type": "stream",
     "text": [
      "tensor([0.9544, 1.4950, 1.4754, 0.8434, 0.7070, 1.0865])\n"
     ]
    }
   ],
   "source": [
    "for i, x_i in enumerate(inputs):\n",
    "    attention_scores_2[i] = query @ x_i\n",
    "\n",
    "print(attention_scores_2)"
   ]
  },
  {
   "cell_type": "code",
   "execution_count": 28,
   "id": "8446fe2e-4867-4832-9678-34963ac1f382",
   "metadata": {},
   "outputs": [
    {
     "name": "stdout",
     "output_type": "stream",
     "text": [
      "tensor([0.1455, 0.2278, 0.2249, 0.1285, 0.1077, 0.1656])\n"
     ]
    }
   ],
   "source": [
    "normalised_attention_scores = attention_scores_2/attention_scores_2.sum()\n",
    "print(normalised_attention_scores)"
   ]
  },
  {
   "cell_type": "code",
   "execution_count": 29,
   "id": "ba70ecf6-8463-48f4-8130-6686ae226a36",
   "metadata": {},
   "outputs": [
    {
     "name": "stdout",
     "output_type": "stream",
     "text": [
      "tensor([0.1385, 0.2379, 0.2333, 0.1240, 0.1082, 0.1581])\n"
     ]
    }
   ],
   "source": [
    "naive_softmax = lambda x: torch.exp(x)/torch.exp(x).sum()\n",
    "normalised_attention_scores  = naive_softmax(attention_scores_2)\n",
    "print(normalised_attention_scores)"
   ]
  },
  {
   "cell_type": "code",
   "execution_count": 30,
   "id": "8ec4773c-2041-410c-a971-bad0a8f7b4ce",
   "metadata": {},
   "outputs": [
    {
     "name": "stdout",
     "output_type": "stream",
     "text": [
      "tensor([0.1385, 0.2379, 0.2333, 0.1240, 0.1082, 0.1581])\n"
     ]
    }
   ],
   "source": [
    "normalised_attention_scores  = torch.softmax(attention_scores_2,dim=0)\n",
    "print(normalised_attention_scores)"
   ]
  },
  {
   "cell_type": "code",
   "execution_count": 31,
   "id": "111b9ff9-ceb4-4564-965c-8393bf7ec703",
   "metadata": {},
   "outputs": [
    {
     "name": "stdout",
     "output_type": "stream",
     "text": [
      "tensor([0.4419, 0.6515, 0.5683])\n"
     ]
    }
   ],
   "source": [
    "query = inputs[1]\n",
    "context_vec_2 = torch.zeros(query.shape)\n",
    "for i, x_i in enumerate(inputs):\n",
    "    context_vec_2 += normalised_attention_scores[i] * x_i\n",
    "\n",
    "print(context_vec_2)\n"
   ]
  },
  {
   "cell_type": "code",
   "execution_count": 32,
   "id": "bcc55b20-21b3-4c7f-b407-52e8591baee1",
   "metadata": {},
   "outputs": [
    {
     "name": "stdout",
     "output_type": "stream",
     "text": [
      "tensor([[0.9995, 0.9544, 0.9422, 0.4753, 0.4576, 0.6310],\n",
      "        [0.9544, 1.4950, 1.4754, 0.8434, 0.7070, 1.0865],\n",
      "        [0.9422, 1.4754, 1.4570, 0.8296, 0.7154, 1.0605],\n",
      "        [0.4753, 0.8434, 0.8296, 0.4937, 0.3474, 0.6565],\n",
      "        [0.4576, 0.7070, 0.7154, 0.3474, 0.6654, 0.2935],\n",
      "        [0.6310, 1.0865, 1.0605, 0.6565, 0.2935, 0.9450]])\n"
     ]
    }
   ],
   "source": [
    "unormalised_attention_score = inputs @ inputs.T\n",
    "print(unormalised_attention_score)"
   ]
  },
  {
   "cell_type": "code",
   "execution_count": 33,
   "id": "51574dc9-f480-46e1-b214-381ffa4fcb63",
   "metadata": {},
   "outputs": [
    {
     "name": "stdout",
     "output_type": "stream",
     "text": [
      "tensor([[0.2098, 0.1385, 0.1390, 0.1435, 0.1526, 0.1385],\n",
      "        [0.2006, 0.2379, 0.2369, 0.2074, 0.1958, 0.2184],\n",
      "        [0.1981, 0.2333, 0.2326, 0.2046, 0.1975, 0.2128],\n",
      "        [0.1242, 0.1240, 0.1242, 0.1462, 0.1367, 0.1420],\n",
      "        [0.1220, 0.1082, 0.1108, 0.1263, 0.1879, 0.0988],\n",
      "        [0.1452, 0.1581, 0.1565, 0.1720, 0.1295, 0.1896]])\n"
     ]
    }
   ],
   "source": [
    "attention_weights = torch.softmax(unormalised_attention_score,dim=0)\n",
    "print(attention_weights)"
   ]
  },
  {
   "cell_type": "code",
   "execution_count": 34,
   "id": "76cfda77-c78e-4f29-a1d0-0bd67934f2c3",
   "metadata": {},
   "outputs": [
    {
     "data": {
      "text/plain": [
       "tensor(1.0000)"
      ]
     },
     "execution_count": 34,
     "metadata": {},
     "output_type": "execute_result"
    }
   ],
   "source": [
    "attention_weights[:,0].sum()"
   ]
  },
  {
   "cell_type": "code",
   "execution_count": 35,
   "id": "2a570c97-5fb4-4132-a6d2-52018a5ac665",
   "metadata": {},
   "outputs": [
    {
     "name": "stdout",
     "output_type": "stream",
     "text": [
      "tensor([[0.4017, 0.5023, 0.5059],\n",
      "        [0.5595, 0.7824, 0.6953],\n",
      "        [0.5538, 0.7686, 0.6834],\n",
      "        [0.3369, 0.4647, 0.4119],\n",
      "        [0.3525, 0.4059, 0.3657],\n",
      "        [0.3856, 0.5761, 0.5077]])\n"
     ]
    }
   ],
   "source": [
    "context_vector = attention_weights @ inputs\n",
    "print(context_vector)"
   ]
  },
  {
   "cell_type": "markdown",
   "id": "0197f109-8a98-4bcd-ac08-8235fe9d9602",
   "metadata": {},
   "source": [
    "Self attention with trainable weights"
   ]
  },
  {
   "cell_type": "code",
   "execution_count": 36,
   "id": "989a18d2-48e8-4442-a8a4-cca1f450b101",
   "metadata": {},
   "outputs": [],
   "source": [
    "x_2 = inputs[1]\n",
    "d_in = inputs.shape[1]\n",
    "d_out = 2 # generally the sizes for input and output are the same but the author suggests different for better understanding."
   ]
  },
  {
   "cell_type": "code",
   "execution_count": 37,
   "id": "412be6ba",
   "metadata": {},
   "outputs": [
    {
     "name": "stdout",
     "output_type": "stream",
     "text": [
      "3\n",
      "2\n"
     ]
    }
   ],
   "source": [
    "print(d_in)\n",
    "print(d_out)"
   ]
  },
  {
   "cell_type": "code",
   "execution_count": 38,
   "id": "dd6dff58-b9be-457b-9ab9-871731228dba",
   "metadata": {},
   "outputs": [],
   "source": [
    "w_q  =nn.Parameter(torch.rand(d_in,d_out), requires_grad=False)\n",
    "w_k  =nn.Parameter(torch.rand(d_in,d_out), requires_grad=False)\n",
    "w_v  =nn.Parameter(torch.rand(d_in,d_out), requires_grad=False)\n"
   ]
  },
  {
   "cell_type": "code",
   "execution_count": 39,
   "id": "bca8db43-e696-412c-81dc-4824899a2a57",
   "metadata": {},
   "outputs": [],
   "source": [
    "q_2 = x_2 @ w_q\n",
    "k_2 = x_2 @ w_k\n",
    "v_2 = x_2 @ w_v"
   ]
  },
  {
   "cell_type": "code",
   "execution_count": 40,
   "id": "d029e544-48cd-4335-bc12-b7c381c49d3b",
   "metadata": {},
   "outputs": [
    {
     "name": "stdout",
     "output_type": "stream",
     "text": [
      "tensor([0.9675, 0.8405])\n"
     ]
    }
   ],
   "source": [
    "print(q_2)"
   ]
  },
  {
   "cell_type": "code",
   "execution_count": 41,
   "id": "e7f8221e-a4ef-4455-8d95-530c19b48636",
   "metadata": {},
   "outputs": [],
   "source": [
    "key = inputs @ w_k \n",
    "values  = inputs @ w_v"
   ]
  },
  {
   "cell_type": "code",
   "execution_count": 42,
   "id": "5ee58206-3ba8-4f53-a75c-79221f0f881b",
   "metadata": {},
   "outputs": [
    {
     "name": "stdout",
     "output_type": "stream",
     "text": [
      "keys:  tensor([[1.0260, 1.0260],\n",
      "        [1.3387, 1.2347],\n",
      "        [1.3098, 1.2211],\n",
      "        [0.7602, 0.6513],\n",
      "        [0.4213, 0.6325],\n",
      "        [1.0876, 0.8295]])\n",
      "##################################################\n",
      "values:  tensor([[0.6963, 0.4945],\n",
      "        [1.0277, 1.1456],\n",
      "        [1.0210, 1.1358],\n",
      "        [0.5542, 0.6689],\n",
      "        [0.6120, 0.6406],\n",
      "        [0.6574, 0.8025]])\n"
     ]
    }
   ],
   "source": [
    "print(\"keys: \", key)\n",
    "print(\"#\"*50)\n",
    "print(\"values: \", values)"
   ]
  },
  {
   "cell_type": "code",
   "execution_count": 43,
   "id": "26799b0d-76d5-4a90-b75c-bee2d0157d98",
   "metadata": {},
   "outputs": [],
   "source": [
    "key_2 = key[1]\n",
    "attention_score_22 = q_2.dot(key_2)# key_2.dot(q_2)"
   ]
  },
  {
   "cell_type": "code",
   "execution_count": 44,
   "id": "e600fd0b-a8f5-4593-9de6-495b0e1300a4",
   "metadata": {},
   "outputs": [
    {
     "name": "stdout",
     "output_type": "stream",
     "text": [
      "torch.Size([2])\n",
      "torch.Size([2])\n",
      "torch.Size([])\n"
     ]
    }
   ],
   "source": [
    "print(key_2.shape)\n",
    "print(q_2.shape)\n",
    "print(attention_score_22.shape)"
   ]
  },
  {
   "cell_type": "code",
   "execution_count": 45,
   "id": "bf51a394-1b42-4f07-84d5-bb6860cb210f",
   "metadata": {},
   "outputs": [
    {
     "data": {
      "text/plain": [
       "tensor(2.3329)"
      ]
     },
     "execution_count": 45,
     "metadata": {},
     "output_type": "execute_result"
    }
   ],
   "source": [
    "attention_score_22"
   ]
  },
  {
   "cell_type": "code",
   "execution_count": 46,
   "id": "1c628c1d-7ba7-43a7-bc23-a19cef375984",
   "metadata": {},
   "outputs": [],
   "source": [
    "attention_score_2 = q_2 @ key.T # the second element here matches the attention_score_22"
   ]
  },
  {
   "cell_type": "markdown",
   "id": "3298c80a-b55f-4447-95e3-e877def8baba",
   "metadata": {},
   "source": [
    "Calculating attention scores for all , but I have hurried to do this, the book first suggests we stick with q_2 and first scale and then will come back to the doing all at once."
   ]
  },
  {
   "cell_type": "code",
   "execution_count": 47,
   "id": "ec2e771c-f19e-4fc6-b2ae-e6d36d82ff83",
   "metadata": {},
   "outputs": [],
   "source": [
    "#query = inputs @ w_q\n",
    "#print(query.shape)\n",
    "#print(key.shape)\n",
    "\n",
    "#attention_scores = query @ key.T\n",
    "#print(attention_scores.shape)"
   ]
  },
  {
   "cell_type": "markdown",
   "id": "bd4444e0-c059-474d-8ec8-f8da75c1e35f",
   "metadata": {},
   "source": [
    "Lets calculate normalise to get from attention_scores to attention_weights for q_2 first."
   ]
  },
  {
   "cell_type": "code",
   "execution_count": 48,
   "id": "caab4677-27eb-4e2e-a5a3-6740c665e0e0",
   "metadata": {},
   "outputs": [
    {
     "name": "stdout",
     "output_type": "stream",
     "text": [
      "2\n"
     ]
    }
   ],
   "source": [
    "d_k = key.shape[-1]\n",
    "print(d_k)"
   ]
  },
  {
   "cell_type": "code",
   "execution_count": 49,
   "id": "f0284388-6349-40f7-9074-51c22e3998ce",
   "metadata": {},
   "outputs": [],
   "source": [
    "attention_weights_2 = torch.softmax(attention_score_2/d_k**0.5, dim = -1)"
   ]
  },
  {
   "cell_type": "code",
   "execution_count": 50,
   "id": "8ef8fb56-8748-4be2-9187-232397291d9b",
   "metadata": {},
   "outputs": [
    {
     "data": {
      "text/plain": [
       "tensor([0.1699, 0.2383, 0.2317, 0.1134, 0.0889, 0.1577])"
      ]
     },
     "execution_count": 50,
     "metadata": {},
     "output_type": "execute_result"
    }
   ],
   "source": [
    "attention_weights_2"
   ]
  },
  {
   "cell_type": "code",
   "execution_count": 51,
   "id": "f13a91c5-8f32-4880-a33e-b23d9925b294",
   "metadata": {},
   "outputs": [
    {
     "data": {
      "text/plain": [
       "tensor([5.3218, 5.7494])"
      ]
     },
     "execution_count": 51,
     "metadata": {},
     "output_type": "execute_result"
    }
   ],
   "source": [
    "attention_scores_2 @ values"
   ]
  },
  {
   "cell_type": "markdown",
   "id": "9eee2407-3dd0-4cfc-b60d-a2255eaf3008",
   "metadata": {},
   "source": [
    "Create a class for extracting the context vector"
   ]
  },
  {
   "cell_type": "code",
   "execution_count": 52,
   "id": "205d9b28-8a1a-425d-9466-0893306f8122",
   "metadata": {},
   "outputs": [],
   "source": [
    "class SelfAttentionV1(nn.Module):\n",
    "    def __init__(self, d_in, d_out):\n",
    "        super().__init__()\n",
    "        self.d_in = d_in\n",
    "        self.d_out= d_out\n",
    "        self.wq = nn.Parameter(torch.rand(d_in, d_out), requires_grad=False)\n",
    "        self.wk = nn.Parameter(torch.rand(d_in, d_out), requires_grad=False)\n",
    "        self.wv = nn.Parameter(torch.rand(d_in, d_out), requires_grad=False)\n",
    "        \n",
    "    def forward(self, inputs):\n",
    "        query = inputs @ self.wq\n",
    "        key= inputs @ self.wk\n",
    "        value= inputs @ self.wv\n",
    "        \n",
    "        attention_score = query @ key.T\n",
    "        d_k = key.shape[-1]\n",
    "        attention_weights = torch.softmax(attention_score/d_k ** 0.5, dim = -1)\n",
    "        context_vector = attention_weights @ value\n",
    "        return context_vector\n"
   ]
  },
  {
   "cell_type": "code",
   "execution_count": 53,
   "id": "48f42fe4",
   "metadata": {},
   "outputs": [
    {
     "data": {
      "text/plain": [
       "tensor([[0.2996, 0.8053],\n",
       "        [0.3061, 0.8210],\n",
       "        [0.3058, 0.8203],\n",
       "        [0.2948, 0.7939],\n",
       "        [0.2927, 0.7891],\n",
       "        [0.2990, 0.8040]])"
      ]
     },
     "execution_count": 53,
     "metadata": {},
     "output_type": "execute_result"
    }
   ],
   "source": [
    "torch.manual_seed(123)\n",
    "self_attention_v1 = SelfAttentionV1(3,2)\n",
    "self_attention_v1(inputs)"
   ]
  },
  {
   "cell_type": "code",
   "execution_count": 54,
   "id": "faeaa529",
   "metadata": {},
   "outputs": [],
   "source": [
    "\n",
    "class SelfAttentionV2(nn.Module):\n",
    "    def __init__(self, d_in, d_out, qkv_bias = False):\n",
    "        super().__init__()\n",
    "        self.d_in = d_in\n",
    "        self.d_out= d_out\n",
    "        self.wq = nn.Linear(d_in,d_out, bias=qkv_bias)\n",
    "        self.wk = nn.Linear(d_in,d_out, bias=qkv_bias)\n",
    "        self.wv = nn.Linear(d_in,d_out, bias=qkv_bias)\n",
    "        \n",
    "    def forward(self, inputs):\n",
    "        query = self.wq(inputs)\n",
    "        key= self.wk(inputs)\n",
    "        value= self.wv(inputs)\n",
    "        \n",
    "        attention_score = query @ key.T\n",
    "        d_k = key.shape[-1]\n",
    "        attention_weights = torch.softmax(attention_score/d_k ** 0.5, dim = -1)\n",
    "        context_vector = attention_weights @ value\n",
    "        return context_vector"
   ]
  },
  {
   "cell_type": "code",
   "execution_count": 55,
   "id": "ff7014fa",
   "metadata": {},
   "outputs": [
    {
     "name": "stdout",
     "output_type": "stream",
     "text": [
      "tensor([[-0.0739,  0.0713],\n",
      "        [-0.0748,  0.0703],\n",
      "        [-0.0749,  0.0702],\n",
      "        [-0.0760,  0.0685],\n",
      "        [-0.0763,  0.0679],\n",
      "        [-0.0754,  0.0693]], grad_fn=<MmBackward0>)\n"
     ]
    }
   ],
   "source": [
    "torch.manual_seed(789)\n",
    "self_attention_v2 = SelfAttentionV2(3,2)\n",
    "result = self_attention_v2(inputs)\n",
    "print(result)"
   ]
  },
  {
   "cell_type": "code",
   "execution_count": 56,
   "id": "5d31c6d5",
   "metadata": {},
   "outputs": [],
   "source": [
    "wq = self_attention_v2.state_dict()[\"wq.weight\"]\n",
    "wk = self_attention_v2.state_dict()[\"wk.weight\"]\n",
    "wv = self_attention_v2.state_dict()[\"wv.weight\"]"
   ]
  },
  {
   "cell_type": "code",
   "execution_count": 57,
   "id": "01ac8d29",
   "metadata": {},
   "outputs": [
    {
     "data": {
      "text/plain": [
       "tensor([[-0.0739,  0.0713],\n",
       "        [-0.0748,  0.0703],\n",
       "        [-0.0749,  0.0702],\n",
       "        [-0.0760,  0.0685],\n",
       "        [-0.0763,  0.0679],\n",
       "        [-0.0754,  0.0693]], grad_fn=<MmBackward0>)"
      ]
     },
     "execution_count": 57,
     "metadata": {},
     "output_type": "execute_result"
    }
   ],
   "source": [
    "self_attention_v1.wq = nn.Parameter(wq.T)\n",
    "self_attention_v1.wk = nn.Parameter(wk.T)\n",
    "self_attention_v1.wv = nn.Parameter(wv.T)\n",
    "\n",
    "# here we have take the weights from v2 and applied to v2 and we can see they are essentially doing the operations, \n",
    "# we can see outputs are the same once we copy the weight matrices.\n",
    "self_attention_v1(inputs)"
   ]
  },
  {
   "cell_type": "code",
   "execution_count": 59,
   "id": "48208861",
   "metadata": {},
   "outputs": [
    {
     "data": {
      "text/plain": [
       "tensor([[ 0.6600, -0.2047],\n",
       "        [ 0.9091, -0.4471],\n",
       "        [ 0.8960, -0.4419],\n",
       "        [ 0.5034, -0.2633],\n",
       "        [ 0.4088, -0.2232],\n",
       "        [ 0.6628, -0.3292]], grad_fn=<MmBackward0>)"
      ]
     },
     "execution_count": 59,
     "metadata": {},
     "output_type": "execute_result"
    }
   ],
   "source": [
    "self_attention_v2.wq(inputs)"
   ]
  },
  {
   "cell_type": "code",
   "execution_count": null,
   "id": "03b489c0",
   "metadata": {},
   "outputs": [],
   "source": []
  }
 ],
 "metadata": {
  "kernelspec": {
   "display_name": ".venv",
   "language": "python",
   "name": "python3"
  },
  "language_info": {
   "codemirror_mode": {
    "name": "ipython",
    "version": 3
   },
   "file_extension": ".py",
   "mimetype": "text/x-python",
   "name": "python",
   "nbconvert_exporter": "python",
   "pygments_lexer": "ipython3",
   "version": "3.11.8"
  }
 },
 "nbformat": 4,
 "nbformat_minor": 5
}
