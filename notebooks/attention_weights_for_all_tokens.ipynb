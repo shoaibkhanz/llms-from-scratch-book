{
 "cells": [
  {
   "cell_type": "code",
   "execution_count": 1,
   "id": "a0c77ee0-b1e6-4aee-8a41-7051736a1dc0",
   "metadata": {},
   "outputs": [],
   "source": [
    "import torch"
   ]
  },
  {
   "cell_type": "code",
   "execution_count": 2,
   "id": "d42a7e24-6a68-4917-b995-25e741717058",
   "metadata": {},
   "outputs": [],
   "source": [
    "# your journey starts with one step\n",
    "torch.manual_seed(123)\n",
    "inputs = torch.rand((6,3))"
   ]
  },
  {
   "cell_type": "code",
   "execution_count": 3,
   "id": "4ac9f95e-7ed2-495f-ac19-978b56e270ca",
   "metadata": {},
   "outputs": [],
   "source": [
    "attention_scores = torch.empty(6,6)"
   ]
  },
  {
   "cell_type": "code",
   "execution_count": 4,
   "id": "46b79cfc-59a9-448c-8bbd-4a920e58bf3b",
   "metadata": {},
   "outputs": [],
   "source": [
    "for i , x1 in enumerate(inputs):\n",
    "    for j , x2 in enumerate(inputs):\n",
    "        attention_scores[i,j] = torch.dot(x1, x2)"
   ]
  },
  {
   "cell_type": "code",
   "execution_count": 5,
   "id": "350209b9-b55d-40e7-9353-787f419dce16",
   "metadata": {},
   "outputs": [
    {
     "data": {
      "text/plain": [
       "tensor([[0.4179, 0.4602, 0.1397, 0.5509, 0.2036, 0.3884],\n",
       "        [0.4602, 1.2304, 0.2611, 1.1189, 0.3408, 1.0023],\n",
       "        [0.1397, 0.2611, 0.0630, 0.2580, 0.0887, 0.2193],\n",
       "        [0.5509, 1.1189, 0.2580, 1.0992, 0.3343, 0.8977],\n",
       "        [0.2036, 0.3408, 0.0887, 0.3343, 0.1445, 0.3155],\n",
       "        [0.3884, 1.0023, 0.2193, 0.8977, 0.3155, 0.8600]])"
      ]
     },
     "execution_count": 5,
     "metadata": {},
     "output_type": "execute_result"
    }
   ],
   "source": [
    "attention_scores"
   ]
  },
  {
   "cell_type": "code",
   "execution_count": 6,
   "id": "c53e6641-993b-440a-b967-8a1258552c2b",
   "metadata": {},
   "outputs": [],
   "source": [
    "attention_scores2=inputs @inputs.T"
   ]
  },
  {
   "cell_type": "code",
   "execution_count": 8,
   "id": "5a4da4e0-9e4e-41b2-b240-7cd24871f7fd",
   "metadata": {},
   "outputs": [
    {
     "data": {
      "text/plain": [
       "tensor([[0.4179, 0.4602, 0.1397, 0.5509, 0.2036, 0.3884],\n",
       "        [0.4602, 1.2304, 0.2611, 1.1189, 0.3408, 1.0023],\n",
       "        [0.1397, 0.2611, 0.0630, 0.2580, 0.0887, 0.2193],\n",
       "        [0.5509, 1.1189, 0.2580, 1.0992, 0.3343, 0.8977],\n",
       "        [0.2036, 0.3408, 0.0887, 0.3343, 0.1445, 0.3155],\n",
       "        [0.3884, 1.0023, 0.2193, 0.8977, 0.3155, 0.8600]])"
      ]
     },
     "execution_count": 8,
     "metadata": {},
     "output_type": "execute_result"
    }
   ],
   "source": [
    "attention_scores2"
   ]
  },
  {
   "cell_type": "code",
   "execution_count": 11,
   "id": "05024897-17e4-40a7-b4e2-008141706853",
   "metadata": {},
   "outputs": [],
   "source": [
    "attention_weights = torch.softmax(attention_scores2, dim=-1)"
   ]
  },
  {
   "cell_type": "code",
   "execution_count": 12,
   "id": "5a2524fd-0929-40c4-a7fe-fd3876b8c7e1",
   "metadata": {},
   "outputs": [
    {
     "data": {
      "text/plain": [
       "tensor([[0.1748, 0.1824, 0.1324, 0.1997, 0.1411, 0.1697],\n",
       "        [0.1174, 0.2536, 0.0962, 0.2268, 0.1042, 0.2019],\n",
       "        [0.1609, 0.1817, 0.1490, 0.1811, 0.1529, 0.1743],\n",
       "        [0.1340, 0.2365, 0.1000, 0.2319, 0.1079, 0.1896],\n",
       "        [0.1603, 0.1838, 0.1429, 0.1827, 0.1511, 0.1793],\n",
       "        [0.1268, 0.2342, 0.1070, 0.2110, 0.1179, 0.2032]])"
      ]
     },
     "execution_count": 12,
     "metadata": {},
     "output_type": "execute_result"
    }
   ],
   "source": [
    "attention_weights"
   ]
  },
  {
   "cell_type": "code",
   "execution_count": 13,
   "id": "7514a8e5-05f5-4383-b5c6-32bd1552b5bf",
   "metadata": {},
   "outputs": [],
   "source": [
    "all_context_vectors = attention_weights @ inputs"
   ]
  },
  {
   "cell_type": "code",
   "execution_count": 14,
   "id": "3d8d7ef6-df04-4e7f-9837-2f30decae146",
   "metadata": {},
   "outputs": [
    {
     "data": {
      "text/plain": [
       "tensor([[0.4193, 0.2282, 0.5486],\n",
       "        [0.4762, 0.2052, 0.6228],\n",
       "        [0.4063, 0.2197, 0.5424],\n",
       "        [0.4690, 0.2138, 0.6075],\n",
       "        [0.4097, 0.2196, 0.5476],\n",
       "        [0.4572, 0.2075, 0.6049]])"
      ]
     },
     "execution_count": 14,
     "metadata": {},
     "output_type": "execute_result"
    }
   ],
   "source": [
    "all_context_vectors"
   ]
  }
 ],
 "metadata": {
  "kernelspec": {
   "display_name": "Python 3 (ipykernel)",
   "language": "python",
   "name": "python3"
  },
  "language_info": {
   "codemirror_mode": {
    "name": "ipython",
    "version": 3
   },
   "file_extension": ".py",
   "mimetype": "text/x-python",
   "name": "python",
   "nbconvert_exporter": "python",
   "pygments_lexer": "ipython3",
   "version": "3.11.10"
  }
 },
 "nbformat": 4,
 "nbformat_minor": 5
}
