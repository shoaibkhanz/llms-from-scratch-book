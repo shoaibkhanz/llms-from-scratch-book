{
 "cells": [
  {
   "cell_type": "code",
   "execution_count": 1,
   "id": "37f38291-9050-4d18-8aae-43b68f84a5f7",
   "metadata": {},
   "outputs": [],
   "source": [
    "import torch \n",
    "import torch.nn as nn"
   ]
  },
  {
   "cell_type": "code",
   "execution_count": 2,
   "id": "172302e1-a6ba-4788-b465-43c820dc746e",
   "metadata": {},
   "outputs": [],
   "source": [
    "class SelfAttentionV2(nn.Module):\n",
    "    def __init__(self, d_in, d_out, qkv_bias=False):\n",
    "        super().__init__()\n",
    "        self.wq = nn.Linear(d_in, d_out,bias=qkv_bias)\n",
    "        self.wk = nn.Linear(d_in, d_out,bias=qkv_bias)\n",
    "        self.wv = nn.Linear(d_in, d_out,bias=qkv_bias)\n",
    "    \n",
    "    def forward(self, x):\n",
    "        query= self.wq(x)\n",
    "        keys = self.wk(x)\n",
    "        values = self.wv(x)\n",
    "\n",
    "        attention_score = query @ keys.T\n",
    "        attention_weights = torch.softmax(attention_score/(keys.shape[-1]**0.5),dim=-1)\n",
    "        context_matrix= attention_weights @ values\n",
    "        return context_matrix"
   ]
  },
  {
   "cell_type": "code",
   "execution_count": 3,
   "id": "f0b62dd6-8f6c-4c37-b8d6-5f80157a9ca1",
   "metadata": {},
   "outputs": [],
   "source": [
    "torch.manual_seed(123)\n",
    "inputs = torch.rand((6,3))\n",
    "\n",
    "d_in = 3\n",
    "d_out = 2\n",
    "sa_v2 = SelfAttentionV2(d_in,d_out)"
   ]
  },
  {
   "cell_type": "code",
   "execution_count": 7,
   "id": "99746b42-2419-44bc-9c1f-6791790c51b4",
   "metadata": {},
   "outputs": [],
   "source": [
    "queries = sa_v2.wq(inputs)\n",
    "keys = sa_v2.wk(inputs)\n",
    "values = sa_v2.wv(inputs)\n",
    "\n",
    "attention_scores = queries @ keys.T\n",
    "attention_weights = torch.softmax(attention_scores/(keys.shape[-1]**0.5), dim= -1)"
   ]
  },
  {
   "cell_type": "code",
   "execution_count": 8,
   "id": "26765cd0-8cc6-467b-a98a-a8541cae5739",
   "metadata": {},
   "outputs": [
    {
     "name": "stdout",
     "output_type": "stream",
     "text": [
      "tensor([[0.1769, 0.1593, 0.1697, 0.1673, 0.1681, 0.1588],\n",
      "        [0.1885, 0.1521, 0.1719, 0.1689, 0.1683, 0.1502],\n",
      "        [0.1718, 0.1630, 0.1682, 0.1671, 0.1673, 0.1626],\n",
      "        [0.1861, 0.1537, 0.1714, 0.1688, 0.1681, 0.1519],\n",
      "        [0.1757, 0.1600, 0.1695, 0.1669, 0.1682, 0.1597],\n",
      "        [0.1877, 0.1521, 0.1723, 0.1680, 0.1690, 0.1508]],\n",
      "       grad_fn=<SoftmaxBackward0>)\n"
     ]
    }
   ],
   "source": [
    "print(attention_weights)"
   ]
  },
  {
   "cell_type": "code",
   "execution_count": 9,
   "id": "c5449683-3a37-495f-aa22-ff7dbb5a0cc1",
   "metadata": {},
   "outputs": [
    {
     "name": "stdout",
     "output_type": "stream",
     "text": [
      "6\n"
     ]
    }
   ],
   "source": [
    "context_length = attention_scores.shape[0]\n",
    "print(context_length)"
   ]
  },
  {
   "cell_type": "code",
   "execution_count": 11,
   "id": "9630f25c-4d5d-45f6-aba8-25665fb10767",
   "metadata": {},
   "outputs": [
    {
     "name": "stdout",
     "output_type": "stream",
     "text": [
      "tensor([[1., 0., 0., 0., 0., 0.],\n",
      "        [1., 1., 0., 0., 0., 0.],\n",
      "        [1., 1., 1., 0., 0., 0.],\n",
      "        [1., 1., 1., 1., 0., 0.],\n",
      "        [1., 1., 1., 1., 1., 0.],\n",
      "        [1., 1., 1., 1., 1., 1.]])\n"
     ]
    }
   ],
   "source": [
    "mask = torch.tril(torch.ones(context_length, context_length))\n",
    "print(mask)"
   ]
  },
  {
   "cell_type": "code",
   "execution_count": 12,
   "id": "3ae7df27-7392-4297-878d-91e6e2d55745",
   "metadata": {},
   "outputs": [
    {
     "name": "stdout",
     "output_type": "stream",
     "text": [
      "tensor([[0.1769, 0.0000, 0.0000, 0.0000, 0.0000, 0.0000],\n",
      "        [0.1885, 0.1521, 0.0000, 0.0000, 0.0000, 0.0000],\n",
      "        [0.1718, 0.1630, 0.1682, 0.0000, 0.0000, 0.0000],\n",
      "        [0.1861, 0.1537, 0.1714, 0.1688, 0.0000, 0.0000],\n",
      "        [0.1757, 0.1600, 0.1695, 0.1669, 0.1682, 0.0000],\n",
      "        [0.1877, 0.1521, 0.1723, 0.1680, 0.1690, 0.1508]],\n",
      "       grad_fn=<MulBackward0>)\n"
     ]
    }
   ],
   "source": [
    "masked_attention = mask*attention_weights\n",
    "print(masked_attention)"
   ]
  },
  {
   "cell_type": "code",
   "execution_count": 16,
   "id": "9734f957-b8e4-4308-9443-a05518eb2c48",
   "metadata": {},
   "outputs": [
    {
     "data": {
      "text/plain": [
       "tensor([[0.1769],\n",
       "        [0.3406],\n",
       "        [0.5030],\n",
       "        [0.6800],\n",
       "        [0.8403],\n",
       "        [1.0000]], grad_fn=<SumBackward1>)"
      ]
     },
     "execution_count": 16,
     "metadata": {},
     "output_type": "execute_result"
    }
   ],
   "source": [
    "masked_attention.sum(dim=-1,keepdim= True)"
   ]
  },
  {
   "cell_type": "code",
   "execution_count": 17,
   "id": "b7b8e890-ada2-47aa-a631-424d9796d75b",
   "metadata": {},
   "outputs": [
    {
     "data": {
      "text/plain": [
       "tensor([[1.0000, 0.0000, 0.0000, 0.0000, 0.0000, 0.0000],\n",
       "        [0.5534, 0.4466, 0.0000, 0.0000, 0.0000, 0.0000],\n",
       "        [0.3417, 0.3240, 0.3343, 0.0000, 0.0000, 0.0000],\n",
       "        [0.2737, 0.2260, 0.2520, 0.2483, 0.0000, 0.0000],\n",
       "        [0.2091, 0.1904, 0.2018, 0.1987, 0.2002, 0.0000],\n",
       "        [0.1877, 0.1521, 0.1723, 0.1680, 0.1690, 0.1508]],\n",
       "       grad_fn=<DivBackward0>)"
      ]
     },
     "execution_count": 17,
     "metadata": {},
     "output_type": "execute_result"
    }
   ],
   "source": [
    "masked_attention/masked_attention.sum(dim=-1,keepdim= True)"
   ]
  },
  {
   "cell_type": "code",
   "execution_count": null,
   "id": "290f914e-b57e-4faf-a335-c754fb1cbf13",
   "metadata": {},
   "outputs": [],
   "source": []
  }
 ],
 "metadata": {
  "kernelspec": {
   "display_name": "Python 3 (ipykernel)",
   "language": "python",
   "name": "python3"
  },
  "language_info": {
   "codemirror_mode": {
    "name": "ipython",
    "version": 3
   },
   "file_extension": ".py",
   "mimetype": "text/x-python",
   "name": "python",
   "nbconvert_exporter": "python",
   "pygments_lexer": "ipython3",
   "version": "3.11.10"
  }
 },
 "nbformat": 4,
 "nbformat_minor": 5
}
